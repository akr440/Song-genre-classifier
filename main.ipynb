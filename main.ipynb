{
 "cells": [
  {
   "cell_type": "markdown",
   "id": "293ebe58",
   "metadata": {},
   "source": [
    "# PROJECT: Classifying songs on the basis of their genre\n",
    "- categorizing music to allow for personalized recommendations\n",
    "- aim of this project is to examine the data compiled by a research group known as The Echo Nest. Our goal is to look through this dataset and classify songs as being either 'Hip-Hop' or 'Rock'.\n"
   ]
  },
  {
   "cell_type": "markdown",
   "id": "8097af30",
   "metadata": {},
   "source": [
    "## Pipeline of this project\n",
    "- Exploratory Data Analysis and Visualisation\n",
    "- Feature Engineering\n",
    "- Feature Selection\n",
    "- Model Building"
   ]
  },
  {
   "cell_type": "code",
   "execution_count": 1,
   "id": "8b50708a",
   "metadata": {},
   "outputs": [],
   "source": [
    "# importing dependencies\n",
    "import pandas as pd\n",
    "import seaborn as sb\n"
   ]
  },
  {
   "cell_type": "code",
   "execution_count": 2,
   "id": "cf6450e1",
   "metadata": {},
   "outputs": [
    {
     "data": {
      "text/html": [
       "<div>\n",
       "<style scoped>\n",
       "    .dataframe tbody tr th:only-of-type {\n",
       "        vertical-align: middle;\n",
       "    }\n",
       "\n",
       "    .dataframe tbody tr th {\n",
       "        vertical-align: top;\n",
       "    }\n",
       "\n",
       "    .dataframe thead th {\n",
       "        text-align: right;\n",
       "    }\n",
       "</style>\n",
       "<table border=\"1\" class=\"dataframe\">\n",
       "  <thead>\n",
       "    <tr style=\"text-align: right;\">\n",
       "      <th></th>\n",
       "      <th>track_id</th>\n",
       "      <th>bit_rate</th>\n",
       "      <th>comments</th>\n",
       "      <th>composer</th>\n",
       "      <th>date_created</th>\n",
       "      <th>date_recorded</th>\n",
       "      <th>duration</th>\n",
       "      <th>favorites</th>\n",
       "      <th>genre_top</th>\n",
       "      <th>genres</th>\n",
       "      <th>...</th>\n",
       "      <th>information</th>\n",
       "      <th>interest</th>\n",
       "      <th>language_code</th>\n",
       "      <th>license</th>\n",
       "      <th>listens</th>\n",
       "      <th>lyricist</th>\n",
       "      <th>number</th>\n",
       "      <th>publisher</th>\n",
       "      <th>tags</th>\n",
       "      <th>title</th>\n",
       "    </tr>\n",
       "  </thead>\n",
       "  <tbody>\n",
       "    <tr>\n",
       "      <th>0</th>\n",
       "      <td>135</td>\n",
       "      <td>256000</td>\n",
       "      <td>1</td>\n",
       "      <td>NaN</td>\n",
       "      <td>2008-11-26 01:43:26</td>\n",
       "      <td>2008-11-26 00:00:00</td>\n",
       "      <td>837</td>\n",
       "      <td>0</td>\n",
       "      <td>Rock</td>\n",
       "      <td>[45, 58]</td>\n",
       "      <td>...</td>\n",
       "      <td>NaN</td>\n",
       "      <td>2484</td>\n",
       "      <td>en</td>\n",
       "      <td>Attribution-NonCommercial-ShareAlike 3.0 Inter...</td>\n",
       "      <td>1832</td>\n",
       "      <td>NaN</td>\n",
       "      <td>0</td>\n",
       "      <td>NaN</td>\n",
       "      <td>[]</td>\n",
       "      <td>Father's Day</td>\n",
       "    </tr>\n",
       "    <tr>\n",
       "      <th>1</th>\n",
       "      <td>136</td>\n",
       "      <td>256000</td>\n",
       "      <td>1</td>\n",
       "      <td>NaN</td>\n",
       "      <td>2008-11-26 01:43:35</td>\n",
       "      <td>2008-11-26 00:00:00</td>\n",
       "      <td>509</td>\n",
       "      <td>0</td>\n",
       "      <td>Rock</td>\n",
       "      <td>[45, 58]</td>\n",
       "      <td>...</td>\n",
       "      <td>NaN</td>\n",
       "      <td>1948</td>\n",
       "      <td>en</td>\n",
       "      <td>Attribution-NonCommercial-ShareAlike 3.0 Inter...</td>\n",
       "      <td>1498</td>\n",
       "      <td>NaN</td>\n",
       "      <td>0</td>\n",
       "      <td>NaN</td>\n",
       "      <td>[]</td>\n",
       "      <td>Peel Back The Mountain Sky</td>\n",
       "    </tr>\n",
       "    <tr>\n",
       "      <th>2</th>\n",
       "      <td>151</td>\n",
       "      <td>192000</td>\n",
       "      <td>0</td>\n",
       "      <td>NaN</td>\n",
       "      <td>2008-11-26 01:44:55</td>\n",
       "      <td>NaN</td>\n",
       "      <td>192</td>\n",
       "      <td>0</td>\n",
       "      <td>Rock</td>\n",
       "      <td>[25]</td>\n",
       "      <td>...</td>\n",
       "      <td>NaN</td>\n",
       "      <td>701</td>\n",
       "      <td>en</td>\n",
       "      <td>Attribution-NonCommercial-ShareAlike 3.0 Inter...</td>\n",
       "      <td>148</td>\n",
       "      <td>NaN</td>\n",
       "      <td>4</td>\n",
       "      <td>NaN</td>\n",
       "      <td>[]</td>\n",
       "      <td>Untitled 04</td>\n",
       "    </tr>\n",
       "    <tr>\n",
       "      <th>3</th>\n",
       "      <td>152</td>\n",
       "      <td>192000</td>\n",
       "      <td>0</td>\n",
       "      <td>NaN</td>\n",
       "      <td>2008-11-26 01:44:58</td>\n",
       "      <td>NaN</td>\n",
       "      <td>193</td>\n",
       "      <td>0</td>\n",
       "      <td>Rock</td>\n",
       "      <td>[25]</td>\n",
       "      <td>...</td>\n",
       "      <td>NaN</td>\n",
       "      <td>637</td>\n",
       "      <td>en</td>\n",
       "      <td>Attribution-NonCommercial-ShareAlike 3.0 Inter...</td>\n",
       "      <td>98</td>\n",
       "      <td>NaN</td>\n",
       "      <td>11</td>\n",
       "      <td>NaN</td>\n",
       "      <td>[]</td>\n",
       "      <td>Untitled 11</td>\n",
       "    </tr>\n",
       "    <tr>\n",
       "      <th>4</th>\n",
       "      <td>153</td>\n",
       "      <td>256000</td>\n",
       "      <td>0</td>\n",
       "      <td>Arc and Sender</td>\n",
       "      <td>2008-11-26 01:45:00</td>\n",
       "      <td>2008-11-26 00:00:00</td>\n",
       "      <td>405</td>\n",
       "      <td>5</td>\n",
       "      <td>Rock</td>\n",
       "      <td>[26]</td>\n",
       "      <td>...</td>\n",
       "      <td>NaN</td>\n",
       "      <td>354</td>\n",
       "      <td>en</td>\n",
       "      <td>Attribution-NonCommercial-NoDerivatives (aka M...</td>\n",
       "      <td>424</td>\n",
       "      <td>NaN</td>\n",
       "      <td>2</td>\n",
       "      <td>NaN</td>\n",
       "      <td>[]</td>\n",
       "      <td>Hundred-Year Flood</td>\n",
       "    </tr>\n",
       "  </tbody>\n",
       "</table>\n",
       "<p>5 rows × 21 columns</p>\n",
       "</div>"
      ],
      "text/plain": [
       "   track_id  bit_rate  comments        composer         date_created  \\\n",
       "0       135    256000         1             NaN  2008-11-26 01:43:26   \n",
       "1       136    256000         1             NaN  2008-11-26 01:43:35   \n",
       "2       151    192000         0             NaN  2008-11-26 01:44:55   \n",
       "3       152    192000         0             NaN  2008-11-26 01:44:58   \n",
       "4       153    256000         0  Arc and Sender  2008-11-26 01:45:00   \n",
       "\n",
       "         date_recorded  duration  favorites genre_top    genres  ...  \\\n",
       "0  2008-11-26 00:00:00       837          0      Rock  [45, 58]  ...   \n",
       "1  2008-11-26 00:00:00       509          0      Rock  [45, 58]  ...   \n",
       "2                  NaN       192          0      Rock      [25]  ...   \n",
       "3                  NaN       193          0      Rock      [25]  ...   \n",
       "4  2008-11-26 00:00:00       405          5      Rock      [26]  ...   \n",
       "\n",
       "  information interest  language_code  \\\n",
       "0         NaN     2484             en   \n",
       "1         NaN     1948             en   \n",
       "2         NaN      701             en   \n",
       "3         NaN      637             en   \n",
       "4         NaN      354             en   \n",
       "\n",
       "                                             license listens  lyricist number  \\\n",
       "0  Attribution-NonCommercial-ShareAlike 3.0 Inter...    1832       NaN      0   \n",
       "1  Attribution-NonCommercial-ShareAlike 3.0 Inter...    1498       NaN      0   \n",
       "2  Attribution-NonCommercial-ShareAlike 3.0 Inter...     148       NaN      4   \n",
       "3  Attribution-NonCommercial-ShareAlike 3.0 Inter...      98       NaN     11   \n",
       "4  Attribution-NonCommercial-NoDerivatives (aka M...     424       NaN      2   \n",
       "\n",
       "   publisher tags                       title  \n",
       "0        NaN   []                Father's Day  \n",
       "1        NaN   []  Peel Back The Mountain Sky  \n",
       "2        NaN   []                 Untitled 04  \n",
       "3        NaN   []                 Untitled 11  \n",
       "4        NaN   []          Hundred-Year Flood  \n",
       "\n",
       "[5 rows x 21 columns]"
      ]
     },
     "execution_count": 2,
     "metadata": {},
     "output_type": "execute_result"
    }
   ],
   "source": [
    "# Reading track metadata with genre labels\n",
    "tracks = pd.read_csv(\"datasets/fma-rock-vs-hiphop.csv\")\n",
    "tracks.head()"
   ]
  },
  {
   "cell_type": "code",
   "execution_count": 3,
   "id": "b5babb15",
   "metadata": {},
   "outputs": [
    {
     "data": {
      "text/html": [
       "<div>\n",
       "<style scoped>\n",
       "    .dataframe tbody tr th:only-of-type {\n",
       "        vertical-align: middle;\n",
       "    }\n",
       "\n",
       "    .dataframe tbody tr th {\n",
       "        vertical-align: top;\n",
       "    }\n",
       "\n",
       "    .dataframe thead th {\n",
       "        text-align: right;\n",
       "    }\n",
       "</style>\n",
       "<table border=\"1\" class=\"dataframe\">\n",
       "  <thead>\n",
       "    <tr style=\"text-align: right;\">\n",
       "      <th></th>\n",
       "      <th>track_id</th>\n",
       "      <th>acousticness</th>\n",
       "      <th>danceability</th>\n",
       "      <th>energy</th>\n",
       "      <th>instrumentalness</th>\n",
       "      <th>liveness</th>\n",
       "      <th>speechiness</th>\n",
       "      <th>tempo</th>\n",
       "      <th>valence</th>\n",
       "    </tr>\n",
       "  </thead>\n",
       "  <tbody>\n",
       "    <tr>\n",
       "      <th>0</th>\n",
       "      <td>2</td>\n",
       "      <td>0.416675</td>\n",
       "      <td>0.675894</td>\n",
       "      <td>0.634476</td>\n",
       "      <td>0.010628</td>\n",
       "      <td>0.177647</td>\n",
       "      <td>0.159310</td>\n",
       "      <td>165.922</td>\n",
       "      <td>0.576661</td>\n",
       "    </tr>\n",
       "    <tr>\n",
       "      <th>1</th>\n",
       "      <td>3</td>\n",
       "      <td>0.374408</td>\n",
       "      <td>0.528643</td>\n",
       "      <td>0.817461</td>\n",
       "      <td>0.001851</td>\n",
       "      <td>0.105880</td>\n",
       "      <td>0.461818</td>\n",
       "      <td>126.957</td>\n",
       "      <td>0.269240</td>\n",
       "    </tr>\n",
       "    <tr>\n",
       "      <th>2</th>\n",
       "      <td>5</td>\n",
       "      <td>0.043567</td>\n",
       "      <td>0.745566</td>\n",
       "      <td>0.701470</td>\n",
       "      <td>0.000697</td>\n",
       "      <td>0.373143</td>\n",
       "      <td>0.124595</td>\n",
       "      <td>100.260</td>\n",
       "      <td>0.621661</td>\n",
       "    </tr>\n",
       "    <tr>\n",
       "      <th>3</th>\n",
       "      <td>10</td>\n",
       "      <td>0.951670</td>\n",
       "      <td>0.658179</td>\n",
       "      <td>0.924525</td>\n",
       "      <td>0.965427</td>\n",
       "      <td>0.115474</td>\n",
       "      <td>0.032985</td>\n",
       "      <td>111.562</td>\n",
       "      <td>0.963590</td>\n",
       "    </tr>\n",
       "    <tr>\n",
       "      <th>4</th>\n",
       "      <td>134</td>\n",
       "      <td>0.452217</td>\n",
       "      <td>0.513238</td>\n",
       "      <td>0.560410</td>\n",
       "      <td>0.019443</td>\n",
       "      <td>0.096567</td>\n",
       "      <td>0.525519</td>\n",
       "      <td>114.290</td>\n",
       "      <td>0.894072</td>\n",
       "    </tr>\n",
       "  </tbody>\n",
       "</table>\n",
       "</div>"
      ],
      "text/plain": [
       "   track_id  acousticness  danceability    energy  instrumentalness  liveness  \\\n",
       "0         2      0.416675      0.675894  0.634476          0.010628  0.177647   \n",
       "1         3      0.374408      0.528643  0.817461          0.001851  0.105880   \n",
       "2         5      0.043567      0.745566  0.701470          0.000697  0.373143   \n",
       "3        10      0.951670      0.658179  0.924525          0.965427  0.115474   \n",
       "4       134      0.452217      0.513238  0.560410          0.019443  0.096567   \n",
       "\n",
       "   speechiness    tempo   valence  \n",
       "0     0.159310  165.922  0.576661  \n",
       "1     0.461818  126.957  0.269240  \n",
       "2     0.124595  100.260  0.621661  \n",
       "3     0.032985  111.562  0.963590  \n",
       "4     0.525519  114.290  0.894072  "
      ]
     },
     "execution_count": 3,
     "metadata": {},
     "output_type": "execute_result"
    }
   ],
   "source": [
    "# Reading track metrics with the features\n",
    "echonest_metrics =pd.read_json(\"datasets/echonest-metrics.json\",precise_float=True)\n",
    "echonest_metrics.head()"
   ]
  },
  {
   "cell_type": "code",
   "execution_count": 4,
   "id": "50491b36",
   "metadata": {},
   "outputs": [
    {
     "data": {
      "text/html": [
       "<div>\n",
       "<style scoped>\n",
       "    .dataframe tbody tr th:only-of-type {\n",
       "        vertical-align: middle;\n",
       "    }\n",
       "\n",
       "    .dataframe tbody tr th {\n",
       "        vertical-align: top;\n",
       "    }\n",
       "\n",
       "    .dataframe thead th {\n",
       "        text-align: right;\n",
       "    }\n",
       "</style>\n",
       "<table border=\"1\" class=\"dataframe\">\n",
       "  <thead>\n",
       "    <tr style=\"text-align: right;\">\n",
       "      <th></th>\n",
       "      <th>track_id</th>\n",
       "      <th>acousticness</th>\n",
       "      <th>danceability</th>\n",
       "      <th>energy</th>\n",
       "      <th>instrumentalness</th>\n",
       "      <th>liveness</th>\n",
       "      <th>speechiness</th>\n",
       "      <th>tempo</th>\n",
       "      <th>valence</th>\n",
       "      <th>genre_top</th>\n",
       "    </tr>\n",
       "  </thead>\n",
       "  <tbody>\n",
       "    <tr>\n",
       "      <th>0</th>\n",
       "      <td>2</td>\n",
       "      <td>0.416675</td>\n",
       "      <td>0.675894</td>\n",
       "      <td>0.634476</td>\n",
       "      <td>0.010628</td>\n",
       "      <td>0.177647</td>\n",
       "      <td>0.159310</td>\n",
       "      <td>165.922</td>\n",
       "      <td>0.576661</td>\n",
       "      <td>Hip-Hop</td>\n",
       "    </tr>\n",
       "    <tr>\n",
       "      <th>1</th>\n",
       "      <td>3</td>\n",
       "      <td>0.374408</td>\n",
       "      <td>0.528643</td>\n",
       "      <td>0.817461</td>\n",
       "      <td>0.001851</td>\n",
       "      <td>0.105880</td>\n",
       "      <td>0.461818</td>\n",
       "      <td>126.957</td>\n",
       "      <td>0.269240</td>\n",
       "      <td>Hip-Hop</td>\n",
       "    </tr>\n",
       "    <tr>\n",
       "      <th>2</th>\n",
       "      <td>5</td>\n",
       "      <td>0.043567</td>\n",
       "      <td>0.745566</td>\n",
       "      <td>0.701470</td>\n",
       "      <td>0.000697</td>\n",
       "      <td>0.373143</td>\n",
       "      <td>0.124595</td>\n",
       "      <td>100.260</td>\n",
       "      <td>0.621661</td>\n",
       "      <td>Hip-Hop</td>\n",
       "    </tr>\n",
       "    <tr>\n",
       "      <th>3</th>\n",
       "      <td>134</td>\n",
       "      <td>0.452217</td>\n",
       "      <td>0.513238</td>\n",
       "      <td>0.560410</td>\n",
       "      <td>0.019443</td>\n",
       "      <td>0.096567</td>\n",
       "      <td>0.525519</td>\n",
       "      <td>114.290</td>\n",
       "      <td>0.894072</td>\n",
       "      <td>Hip-Hop</td>\n",
       "    </tr>\n",
       "    <tr>\n",
       "      <th>4</th>\n",
       "      <td>153</td>\n",
       "      <td>0.988306</td>\n",
       "      <td>0.255661</td>\n",
       "      <td>0.979774</td>\n",
       "      <td>0.973006</td>\n",
       "      <td>0.121342</td>\n",
       "      <td>0.051740</td>\n",
       "      <td>90.241</td>\n",
       "      <td>0.034018</td>\n",
       "      <td>Rock</td>\n",
       "    </tr>\n",
       "  </tbody>\n",
       "</table>\n",
       "</div>"
      ],
      "text/plain": [
       "   track_id  acousticness  danceability    energy  instrumentalness  liveness  \\\n",
       "0         2      0.416675      0.675894  0.634476          0.010628  0.177647   \n",
       "1         3      0.374408      0.528643  0.817461          0.001851  0.105880   \n",
       "2         5      0.043567      0.745566  0.701470          0.000697  0.373143   \n",
       "3       134      0.452217      0.513238  0.560410          0.019443  0.096567   \n",
       "4       153      0.988306      0.255661  0.979774          0.973006  0.121342   \n",
       "\n",
       "   speechiness    tempo   valence genre_top  \n",
       "0     0.159310  165.922  0.576661   Hip-Hop  \n",
       "1     0.461818  126.957  0.269240   Hip-Hop  \n",
       "2     0.124595  100.260  0.621661   Hip-Hop  \n",
       "3     0.525519  114.290  0.894072   Hip-Hop  \n",
       "4     0.051740   90.241  0.034018      Rock  "
      ]
     },
     "execution_count": 4,
     "metadata": {},
     "output_type": "execute_result"
    }
   ],
   "source": [
    "# Merging the relevant columns of tracks and echonest_metrics\n",
    "echo_tracks = pd.merge(echonest_metrics,tracks[['track_id','genre_top']],on='track_id')\n",
    "echo_tracks.head()"
   ]
  },
  {
   "cell_type": "code",
   "execution_count": 5,
   "id": "252118d8",
   "metadata": {},
   "outputs": [
    {
     "data": {
      "text/plain": [
       "track_id            0\n",
       "acousticness        0\n",
       "danceability        0\n",
       "energy              0\n",
       "instrumentalness    0\n",
       "liveness            0\n",
       "speechiness         0\n",
       "tempo               0\n",
       "valence             0\n",
       "genre_top           0\n",
       "dtype: int64"
      ]
     },
     "execution_count": 5,
     "metadata": {},
     "output_type": "execute_result"
    }
   ],
   "source": [
    "# checking for missing values\n",
    "echo_tracks.isnull().sum()"
   ]
  },
  {
   "cell_type": "code",
   "execution_count": 6,
   "id": "682dbcc6",
   "metadata": {},
   "outputs": [
    {
     "name": "stdout",
     "output_type": "stream",
     "text": [
      "<class 'pandas.core.frame.DataFrame'>\n",
      "Int64Index: 4802 entries, 0 to 4801\n",
      "Data columns (total 10 columns):\n",
      " #   Column            Non-Null Count  Dtype  \n",
      "---  ------            --------------  -----  \n",
      " 0   track_id          4802 non-null   int64  \n",
      " 1   acousticness      4802 non-null   float64\n",
      " 2   danceability      4802 non-null   float64\n",
      " 3   energy            4802 non-null   float64\n",
      " 4   instrumentalness  4802 non-null   float64\n",
      " 5   liveness          4802 non-null   float64\n",
      " 6   speechiness       4802 non-null   float64\n",
      " 7   tempo             4802 non-null   float64\n",
      " 8   valence           4802 non-null   float64\n",
      " 9   genre_top         4802 non-null   object \n",
      "dtypes: float64(8), int64(1), object(1)\n",
      "memory usage: 412.7+ KB\n"
     ]
    }
   ],
   "source": [
    "echo_tracks.info()"
   ]
  },
  {
   "cell_type": "markdown",
   "id": "9c848297",
   "metadata": {},
   "source": [
    "### Seems like our data is having numerical values only, we will try to avoid using variables that have strong correlations with each other - hence avoiding feature redundancy - for a few reasons:\n",
    "- To keep the model simple and with many features, we run the risk of overfitting.\n",
    "- in very large datasets, using fewer features can drastically speed up our computation time.\n"
   ]
  },
  {
   "cell_type": "code",
   "execution_count": 7,
   "id": "0477711b",
   "metadata": {},
   "outputs": [
    {
     "data": {
      "text/html": [
       "<style type=\"text/css\">\n",
       "#T_3f331_row0_col0, #T_3f331_row1_col1, #T_3f331_row2_col2, #T_3f331_row3_col3, #T_3f331_row4_col4, #T_3f331_row5_col5, #T_3f331_row6_col6, #T_3f331_row7_col7, #T_3f331_row8_col8 {\n",
       "  background-color: #023858;\n",
       "  color: #f1f1f1;\n",
       "}\n",
       "#T_3f331_row0_col1, #T_3f331_row1_col0, #T_3f331_row1_col3, #T_3f331_row2_col5, #T_3f331_row2_col7, #T_3f331_row4_col2, #T_3f331_row4_col6, #T_3f331_row4_col8, #T_3f331_row6_col4 {\n",
       "  background-color: #fff7fb;\n",
       "  color: #000000;\n",
       "}\n",
       "#T_3f331_row0_col2 {\n",
       "  background-color: #d2d2e7;\n",
       "  color: #000000;\n",
       "}\n",
       "#T_3f331_row0_col3 {\n",
       "  background-color: #b5c4df;\n",
       "  color: #000000;\n",
       "}\n",
       "#T_3f331_row0_col4 {\n",
       "  background-color: #f5eef6;\n",
       "  color: #000000;\n",
       "}\n",
       "#T_3f331_row0_col5 {\n",
       "  background-color: #e9e5f1;\n",
       "  color: #000000;\n",
       "}\n",
       "#T_3f331_row0_col6, #T_3f331_row8_col3 {\n",
       "  background-color: #d1d2e6;\n",
       "  color: #000000;\n",
       "}\n",
       "#T_3f331_row0_col7, #T_3f331_row1_col7 {\n",
       "  background-color: #e1dfed;\n",
       "  color: #000000;\n",
       "}\n",
       "#T_3f331_row0_col8, #T_3f331_row3_col6 {\n",
       "  background-color: #dedcec;\n",
       "  color: #000000;\n",
       "}\n",
       "#T_3f331_row1_col2 {\n",
       "  background-color: #e0dded;\n",
       "  color: #000000;\n",
       "}\n",
       "#T_3f331_row1_col4, #T_3f331_row4_col1 {\n",
       "  background-color: #97b7d7;\n",
       "  color: #000000;\n",
       "}\n",
       "#T_3f331_row1_col5, #T_3f331_row2_col4 {\n",
       "  background-color: #f3edf5;\n",
       "  color: #000000;\n",
       "}\n",
       "#T_3f331_row1_col6, #T_3f331_row6_col1 {\n",
       "  background-color: #b8c6e0;\n",
       "  color: #000000;\n",
       "}\n",
       "#T_3f331_row1_col8 {\n",
       "  background-color: #e2dfee;\n",
       "  color: #000000;\n",
       "}\n",
       "#T_3f331_row2_col0, #T_3f331_row5_col0, #T_3f331_row5_col3 {\n",
       "  background-color: #bdc8e1;\n",
       "  color: #000000;\n",
       "}\n",
       "#T_3f331_row2_col1, #T_3f331_row6_col0, #T_3f331_row7_col0, #T_3f331_row7_col1 {\n",
       "  background-color: #d0d1e6;\n",
       "  color: #000000;\n",
       "}\n",
       "#T_3f331_row2_col3 {\n",
       "  background-color: #fbf3f9;\n",
       "  color: #000000;\n",
       "}\n",
       "#T_3f331_row2_col6 {\n",
       "  background-color: #80aed2;\n",
       "  color: #f1f1f1;\n",
       "}\n",
       "#T_3f331_row2_col8 {\n",
       "  background-color: #529bc7;\n",
       "  color: #f1f1f1;\n",
       "}\n",
       "#T_3f331_row3_col0, #T_3f331_row7_col3 {\n",
       "  background-color: #a7bddb;\n",
       "  color: #000000;\n",
       "}\n",
       "#T_3f331_row3_col1 {\n",
       "  background-color: #f5eff6;\n",
       "  color: #000000;\n",
       "}\n",
       "#T_3f331_row3_col2, #T_3f331_row7_col2 {\n",
       "  background-color: #fef6fa;\n",
       "  color: #000000;\n",
       "}\n",
       "#T_3f331_row3_col4 {\n",
       "  background-color: #c4cbe3;\n",
       "  color: #000000;\n",
       "}\n",
       "#T_3f331_row3_col5, #T_3f331_row5_col7 {\n",
       "  background-color: #dcdaeb;\n",
       "  color: #000000;\n",
       "}\n",
       "#T_3f331_row3_col7 {\n",
       "  background-color: #adc1dd;\n",
       "  color: #000000;\n",
       "}\n",
       "#T_3f331_row3_col8, #T_3f331_row4_col7 {\n",
       "  background-color: #d9d8ea;\n",
       "  color: #000000;\n",
       "}\n",
       "#T_3f331_row4_col0 {\n",
       "  background-color: #f4eef6;\n",
       "  color: #000000;\n",
       "}\n",
       "#T_3f331_row4_col3 {\n",
       "  background-color: #d2d3e7;\n",
       "  color: #000000;\n",
       "}\n",
       "#T_3f331_row4_col5 {\n",
       "  background-color: #fdf5fa;\n",
       "  color: #000000;\n",
       "}\n",
       "#T_3f331_row5_col1 {\n",
       "  background-color: #ced0e6;\n",
       "  color: #000000;\n",
       "}\n",
       "#T_3f331_row5_col2 {\n",
       "  background-color: #ede8f3;\n",
       "  color: #000000;\n",
       "}\n",
       "#T_3f331_row5_col4, #T_3f331_row6_col7 {\n",
       "  background-color: #dbdaeb;\n",
       "  color: #000000;\n",
       "}\n",
       "#T_3f331_row5_col6 {\n",
       "  background-color: #c0c9e2;\n",
       "  color: #000000;\n",
       "}\n",
       "#T_3f331_row5_col8 {\n",
       "  background-color: #e8e4f0;\n",
       "  color: #000000;\n",
       "}\n",
       "#T_3f331_row6_col2 {\n",
       "  background-color: #93b5d6;\n",
       "  color: #000000;\n",
       "}\n",
       "#T_3f331_row6_col3, #T_3f331_row6_col5 {\n",
       "  background-color: #eae6f1;\n",
       "  color: #000000;\n",
       "}\n",
       "#T_3f331_row6_col8 {\n",
       "  background-color: #bfc9e1;\n",
       "  color: #000000;\n",
       "}\n",
       "#T_3f331_row7_col4 {\n",
       "  background-color: #c5cce3;\n",
       "  color: #000000;\n",
       "}\n",
       "#T_3f331_row7_col5 {\n",
       "  background-color: #f0eaf4;\n",
       "  color: #000000;\n",
       "}\n",
       "#T_3f331_row7_col6 {\n",
       "  background-color: #c8cde4;\n",
       "  color: #000000;\n",
       "}\n",
       "#T_3f331_row7_col8 {\n",
       "  background-color: #d6d6e9;\n",
       "  color: #000000;\n",
       "}\n",
       "#T_3f331_row8_col0 {\n",
       "  background-color: #c6cce3;\n",
       "  color: #000000;\n",
       "}\n",
       "#T_3f331_row8_col1 {\n",
       "  background-color: #cdd0e5;\n",
       "  color: #000000;\n",
       "}\n",
       "#T_3f331_row8_col2 {\n",
       "  background-color: #4c99c5;\n",
       "  color: #f1f1f1;\n",
       "}\n",
       "#T_3f331_row8_col4 {\n",
       "  background-color: #efe9f3;\n",
       "  color: #000000;\n",
       "}\n",
       "#T_3f331_row8_col5 {\n",
       "  background-color: #f7f0f7;\n",
       "  color: #000000;\n",
       "}\n",
       "#T_3f331_row8_col6 {\n",
       "  background-color: #a5bddb;\n",
       "  color: #000000;\n",
       "}\n",
       "#T_3f331_row8_col7 {\n",
       "  background-color: #d3d4e7;\n",
       "  color: #000000;\n",
       "}\n",
       "</style>\n",
       "<table id=\"T_3f331_\">\n",
       "  <thead>\n",
       "    <tr>\n",
       "      <th class=\"blank level0\" >&nbsp;</th>\n",
       "      <th class=\"col_heading level0 col0\" >track_id</th>\n",
       "      <th class=\"col_heading level0 col1\" >acousticness</th>\n",
       "      <th class=\"col_heading level0 col2\" >danceability</th>\n",
       "      <th class=\"col_heading level0 col3\" >energy</th>\n",
       "      <th class=\"col_heading level0 col4\" >instrumentalness</th>\n",
       "      <th class=\"col_heading level0 col5\" >liveness</th>\n",
       "      <th class=\"col_heading level0 col6\" >speechiness</th>\n",
       "      <th class=\"col_heading level0 col7\" >tempo</th>\n",
       "      <th class=\"col_heading level0 col8\" >valence</th>\n",
       "    </tr>\n",
       "  </thead>\n",
       "  <tbody>\n",
       "    <tr>\n",
       "      <th id=\"T_3f331_level0_row0\" class=\"row_heading level0 row0\" >track_id</th>\n",
       "      <td id=\"T_3f331_row0_col0\" class=\"data row0 col0\" >1.000000</td>\n",
       "      <td id=\"T_3f331_row0_col1\" class=\"data row0 col1\" >-0.372282</td>\n",
       "      <td id=\"T_3f331_row0_col2\" class=\"data row0 col2\" >0.049454</td>\n",
       "      <td id=\"T_3f331_row0_col3\" class=\"data row0 col3\" >0.140703</td>\n",
       "      <td id=\"T_3f331_row0_col4\" class=\"data row0 col4\" >-0.275623</td>\n",
       "      <td id=\"T_3f331_row0_col5\" class=\"data row0 col5\" >0.048231</td>\n",
       "      <td id=\"T_3f331_row0_col6\" class=\"data row0 col6\" >-0.026995</td>\n",
       "      <td id=\"T_3f331_row0_col7\" class=\"data row0 col7\" >-0.025392</td>\n",
       "      <td id=\"T_3f331_row0_col8\" class=\"data row0 col8\" >0.010070</td>\n",
       "    </tr>\n",
       "    <tr>\n",
       "      <th id=\"T_3f331_level0_row1\" class=\"row_heading level0 row1\" >acousticness</th>\n",
       "      <td id=\"T_3f331_row1_col0\" class=\"data row1 col0\" >-0.372282</td>\n",
       "      <td id=\"T_3f331_row1_col1\" class=\"data row1 col1\" >1.000000</td>\n",
       "      <td id=\"T_3f331_row1_col2\" class=\"data row1 col2\" >-0.028954</td>\n",
       "      <td id=\"T_3f331_row1_col3\" class=\"data row1 col3\" >-0.281619</td>\n",
       "      <td id=\"T_3f331_row1_col4\" class=\"data row1 col4\" >0.194780</td>\n",
       "      <td id=\"T_3f331_row1_col5\" class=\"data row1 col5\" >-0.019991</td>\n",
       "      <td id=\"T_3f331_row1_col6\" class=\"data row1 col6\" >0.072204</td>\n",
       "      <td id=\"T_3f331_row1_col7\" class=\"data row1 col7\" >-0.026310</td>\n",
       "      <td id=\"T_3f331_row1_col8\" class=\"data row1 col8\" >-0.013841</td>\n",
       "    </tr>\n",
       "    <tr>\n",
       "      <th id=\"T_3f331_level0_row2\" class=\"row_heading level0 row2\" >danceability</th>\n",
       "      <td id=\"T_3f331_row2_col0\" class=\"data row2 col0\" >0.049454</td>\n",
       "      <td id=\"T_3f331_row2_col1\" class=\"data row2 col1\" >-0.028954</td>\n",
       "      <td id=\"T_3f331_row2_col2\" class=\"data row2 col2\" >1.000000</td>\n",
       "      <td id=\"T_3f331_row2_col3\" class=\"data row2 col3\" >-0.242032</td>\n",
       "      <td id=\"T_3f331_row2_col4\" class=\"data row2 col4\" >-0.255217</td>\n",
       "      <td id=\"T_3f331_row2_col5\" class=\"data row2 col5\" >-0.106584</td>\n",
       "      <td id=\"T_3f331_row2_col6\" class=\"data row2 col6\" >0.276206</td>\n",
       "      <td id=\"T_3f331_row2_col7\" class=\"data row2 col7\" >-0.242089</td>\n",
       "      <td id=\"T_3f331_row2_col8\" class=\"data row2 col8\" >0.473165</td>\n",
       "    </tr>\n",
       "    <tr>\n",
       "      <th id=\"T_3f331_level0_row3\" class=\"row_heading level0 row3\" >energy</th>\n",
       "      <td id=\"T_3f331_row3_col0\" class=\"data row3 col0\" >0.140703</td>\n",
       "      <td id=\"T_3f331_row3_col1\" class=\"data row3 col1\" >-0.281619</td>\n",
       "      <td id=\"T_3f331_row3_col2\" class=\"data row3 col2\" >-0.242032</td>\n",
       "      <td id=\"T_3f331_row3_col3\" class=\"data row3 col3\" >1.000000</td>\n",
       "      <td id=\"T_3f331_row3_col4\" class=\"data row3 col4\" >0.028238</td>\n",
       "      <td id=\"T_3f331_row3_col5\" class=\"data row3 col5\" >0.113331</td>\n",
       "      <td id=\"T_3f331_row3_col6\" class=\"data row3 col6\" >-0.109983</td>\n",
       "      <td id=\"T_3f331_row3_col7\" class=\"data row3 col7\" >0.195227</td>\n",
       "      <td id=\"T_3f331_row3_col8\" class=\"data row3 col8\" >0.038603</td>\n",
       "    </tr>\n",
       "    <tr>\n",
       "      <th id=\"T_3f331_level0_row4\" class=\"row_heading level0 row4\" >instrumentalness</th>\n",
       "      <td id=\"T_3f331_row4_col0\" class=\"data row4 col0\" >-0.275623</td>\n",
       "      <td id=\"T_3f331_row4_col1\" class=\"data row4 col1\" >0.194780</td>\n",
       "      <td id=\"T_3f331_row4_col2\" class=\"data row4 col2\" >-0.255217</td>\n",
       "      <td id=\"T_3f331_row4_col3\" class=\"data row4 col3\" >0.028238</td>\n",
       "      <td id=\"T_3f331_row4_col4\" class=\"data row4 col4\" >1.000000</td>\n",
       "      <td id=\"T_3f331_row4_col5\" class=\"data row4 col5\" >-0.091022</td>\n",
       "      <td id=\"T_3f331_row4_col6\" class=\"data row4 col6\" >-0.366762</td>\n",
       "      <td id=\"T_3f331_row4_col7\" class=\"data row4 col7\" >0.022215</td>\n",
       "      <td id=\"T_3f331_row4_col8\" class=\"data row4 col8\" >-0.219967</td>\n",
       "    </tr>\n",
       "    <tr>\n",
       "      <th id=\"T_3f331_level0_row5\" class=\"row_heading level0 row5\" >liveness</th>\n",
       "      <td id=\"T_3f331_row5_col0\" class=\"data row5 col0\" >0.048231</td>\n",
       "      <td id=\"T_3f331_row5_col1\" class=\"data row5 col1\" >-0.019991</td>\n",
       "      <td id=\"T_3f331_row5_col2\" class=\"data row5 col2\" >-0.106584</td>\n",
       "      <td id=\"T_3f331_row5_col3\" class=\"data row5 col3\" >0.113331</td>\n",
       "      <td id=\"T_3f331_row5_col4\" class=\"data row5 col4\" >-0.091022</td>\n",
       "      <td id=\"T_3f331_row5_col5\" class=\"data row5 col5\" >1.000000</td>\n",
       "      <td id=\"T_3f331_row5_col6\" class=\"data row5 col6\" >0.041173</td>\n",
       "      <td id=\"T_3f331_row5_col7\" class=\"data row5 col7\" >0.002732</td>\n",
       "      <td id=\"T_3f331_row5_col8\" class=\"data row5 col8\" >-0.045093</td>\n",
       "    </tr>\n",
       "    <tr>\n",
       "      <th id=\"T_3f331_level0_row6\" class=\"row_heading level0 row6\" >speechiness</th>\n",
       "      <td id=\"T_3f331_row6_col0\" class=\"data row6 col0\" >-0.026995</td>\n",
       "      <td id=\"T_3f331_row6_col1\" class=\"data row6 col1\" >0.072204</td>\n",
       "      <td id=\"T_3f331_row6_col2\" class=\"data row6 col2\" >0.276206</td>\n",
       "      <td id=\"T_3f331_row6_col3\" class=\"data row6 col3\" >-0.109983</td>\n",
       "      <td id=\"T_3f331_row6_col4\" class=\"data row6 col4\" >-0.366762</td>\n",
       "      <td id=\"T_3f331_row6_col5\" class=\"data row6 col5\" >0.041173</td>\n",
       "      <td id=\"T_3f331_row6_col6\" class=\"data row6 col6\" >1.000000</td>\n",
       "      <td id=\"T_3f331_row6_col7\" class=\"data row6 col7\" >0.008241</td>\n",
       "      <td id=\"T_3f331_row6_col8\" class=\"data row6 col8\" >0.149894</td>\n",
       "    </tr>\n",
       "    <tr>\n",
       "      <th id=\"T_3f331_level0_row7\" class=\"row_heading level0 row7\" >tempo</th>\n",
       "      <td id=\"T_3f331_row7_col0\" class=\"data row7 col0\" >-0.025392</td>\n",
       "      <td id=\"T_3f331_row7_col1\" class=\"data row7 col1\" >-0.026310</td>\n",
       "      <td id=\"T_3f331_row7_col2\" class=\"data row7 col2\" >-0.242089</td>\n",
       "      <td id=\"T_3f331_row7_col3\" class=\"data row7 col3\" >0.195227</td>\n",
       "      <td id=\"T_3f331_row7_col4\" class=\"data row7 col4\" >0.022215</td>\n",
       "      <td id=\"T_3f331_row7_col5\" class=\"data row7 col5\" >0.002732</td>\n",
       "      <td id=\"T_3f331_row7_col6\" class=\"data row7 col6\" >0.008241</td>\n",
       "      <td id=\"T_3f331_row7_col7\" class=\"data row7 col7\" >1.000000</td>\n",
       "      <td id=\"T_3f331_row7_col8\" class=\"data row7 col8\" >0.052221</td>\n",
       "    </tr>\n",
       "    <tr>\n",
       "      <th id=\"T_3f331_level0_row8\" class=\"row_heading level0 row8\" >valence</th>\n",
       "      <td id=\"T_3f331_row8_col0\" class=\"data row8 col0\" >0.010070</td>\n",
       "      <td id=\"T_3f331_row8_col1\" class=\"data row8 col1\" >-0.013841</td>\n",
       "      <td id=\"T_3f331_row8_col2\" class=\"data row8 col2\" >0.473165</td>\n",
       "      <td id=\"T_3f331_row8_col3\" class=\"data row8 col3\" >0.038603</td>\n",
       "      <td id=\"T_3f331_row8_col4\" class=\"data row8 col4\" >-0.219967</td>\n",
       "      <td id=\"T_3f331_row8_col5\" class=\"data row8 col5\" >-0.045093</td>\n",
       "      <td id=\"T_3f331_row8_col6\" class=\"data row8 col6\" >0.149894</td>\n",
       "      <td id=\"T_3f331_row8_col7\" class=\"data row8 col7\" >0.052221</td>\n",
       "      <td id=\"T_3f331_row8_col8\" class=\"data row8 col8\" >1.000000</td>\n",
       "    </tr>\n",
       "  </tbody>\n",
       "</table>\n"
      ],
      "text/plain": [
       "<pandas.io.formats.style.Styler at 0x245ff1c2d00>"
      ]
     },
     "execution_count": 7,
     "metadata": {},
     "output_type": "execute_result"
    }
   ],
   "source": [
    "# finding corelation between the numerical features\n",
    "# using .corr() \n",
    "# Creating a correlation matrix\n",
    "corr_metrics = echo_tracks.corr()\n",
    "corr_metrics.style.background_gradient()"
   ]
  },
  {
   "cell_type": "markdown",
   "id": "4193a47f",
   "metadata": {},
   "source": [
    "## Splitting the data\n",
    "- Since we didn't find any particularly strong correlations between our features, we can now split our data into an array containing our features, and another containing the labels - the genre of the track."
   ]
  },
  {
   "cell_type": "code",
   "execution_count": 8,
   "id": "676e2784",
   "metadata": {},
   "outputs": [
    {
     "data": {
      "text/plain": [
       "array([[4.16675233e-01, 6.75893985e-01, 6.34476268e-01, ...,\n",
       "        1.59310065e-01, 1.65922000e+02, 5.76660988e-01],\n",
       "       [3.74407769e-01, 5.28643062e-01, 8.17461132e-01, ...,\n",
       "        4.61818128e-01, 1.26957000e+02, 2.69240242e-01],\n",
       "       [4.35668989e-02, 7.45565870e-01, 7.01469992e-01, ...,\n",
       "        1.24595342e-01, 1.00260000e+02, 6.21661224e-01],\n",
       "       ...,\n",
       "       [1.04777022e-02, 6.52483062e-01, 6.57497709e-01, ...,\n",
       "        2.29174375e-01, 9.48850000e+01, 4.32240157e-01],\n",
       "       [6.79063452e-02, 4.32421004e-01, 7.64508334e-01, ...,\n",
       "        3.10552525e-01, 1.71329000e+02, 5.80087111e-01],\n",
       "       [1.53518164e-01, 6.38659813e-01, 7.62567227e-01, ...,\n",
       "        3.03372337e-01, 7.78420000e+01, 6.56612274e-01]])"
      ]
     },
     "execution_count": 8,
     "metadata": {},
     "output_type": "execute_result"
    }
   ],
   "source": [
    "from sklearn.model_selection import train_test_split\n",
    "#creating features\n",
    "features = echo_tracks.drop(['genre_top','track_id'],axis=1).values\n",
    "features"
   ]
  },
  {
   "cell_type": "code",
   "execution_count": 9,
   "id": "c096ed28",
   "metadata": {},
   "outputs": [
    {
     "data": {
      "text/plain": [
       "array(['Hip-Hop', 'Hip-Hop', 'Hip-Hop', ..., 'Hip-Hop', 'Hip-Hop',\n",
       "       'Hip-Hop'], dtype=object)"
      ]
     },
     "execution_count": 9,
     "metadata": {},
     "output_type": "execute_result"
    }
   ],
   "source": [
    "#creating labels\n",
    "# Create labels\n",
    "labels = echo_tracks['genre_top'].values\n",
    "labels\n"
   ]
  },
  {
   "cell_type": "code",
   "execution_count": 10,
   "id": "dfb5b647",
   "metadata": {},
   "outputs": [],
   "source": [
    "# splitting the data in training dataset nd testing data set\n",
    "train_features, test_features, train_labels, test_labels = train_test_split(features,labels,random_state=5)"
   ]
  },
  {
   "cell_type": "markdown",
   "id": "34c0c607",
   "metadata": {},
   "source": [
    "### Normalizing the feature data\n",
    "- As we didnt get any strong corelation in our features so that we could have remove some features, now we will PCA to reduce the no of features features\n",
    "- Before that we will do some scaling in our both test and train features"
   ]
  },
  {
   "cell_type": "code",
   "execution_count": 11,
   "id": "622f63bd",
   "metadata": {},
   "outputs": [],
   "source": [
    "# Importing the StandardScaler\n",
    "from sklearn.preprocessing import StandardScaler\n",
    "scaler = StandardScaler()"
   ]
  },
  {
   "cell_type": "code",
   "execution_count": 12,
   "id": "a233a8ac",
   "metadata": {},
   "outputs": [
    {
     "data": {
      "text/plain": [
       "array([[ 1.34237282,  0.86164357, -0.76064822, ..., -0.52300103,\n",
       "        -0.7469662 ,  0.76627323],\n",
       "       [ 0.91021001, -0.90179286, -0.68884823, ..., -0.46476374,\n",
       "        -0.52548805,  0.42553405],\n",
       "       [-1.31127826, -0.55943596, -0.11270637, ..., -0.50067552,\n",
       "        -1.74752766,  0.9418221 ],\n",
       "       ...,\n",
       "       [ 0.51797147, -0.55877711,  1.46379638, ...,  1.85941037,\n",
       "         0.5712021 , -1.25983123],\n",
       "       [ 0.62703932,  0.91228132, -0.36835378, ..., -0.18420972,\n",
       "         1.75899403,  1.02637558],\n",
       "       [ 0.29905541,  0.89167317, -1.08127423, ...,  0.14222451,\n",
       "        -1.22002517,  0.85261577]])"
      ]
     },
     "execution_count": 12,
     "metadata": {},
     "output_type": "execute_result"
    }
   ],
   "source": [
    "# Scaling train_features \n",
    "scaled_train_features = scaler.fit_transform(train_features)\n",
    "scaled_train_features"
   ]
  },
  {
   "cell_type": "code",
   "execution_count": 13,
   "id": "530dd6fb",
   "metadata": {},
   "outputs": [
    {
     "data": {
      "text/plain": [
       "array([[ 0.44310988,  0.95965855,  0.06040876, ...,  0.3297547 ,\n",
       "        -0.48297977,  1.84262139],\n",
       "       [-1.03367883, -0.15252051, -0.9354748 , ..., -0.425692  ,\n",
       "        -1.79647392, -0.35518857],\n",
       "       [ 1.35055822,  0.50955776, -1.21533224, ..., -0.45565444,\n",
       "        -0.4125148 , -0.81527488],\n",
       "       ...,\n",
       "       [-1.24526049,  0.01897586,  0.42751129, ..., -0.44671296,\n",
       "        -0.11019449, -0.39769534],\n",
       "       [ 0.62991477,  0.41134242, -0.31065913, ...,  1.93929294,\n",
       "         1.22878699,  0.38430068],\n",
       "       [ 1.33655941,  0.44241384, -0.92697657, ..., -0.53565025,\n",
       "        -1.04561186,  0.2701136 ]])"
      ]
     },
     "execution_count": 13,
     "metadata": {},
     "output_type": "execute_result"
    }
   ],
   "source": [
    "# Scaling test_features\n",
    "scaled_test_features = scaler.transform(test_features)\n",
    "scaled_test_features"
   ]
  },
  {
   "cell_type": "markdown",
   "id": "9717d1bd",
   "metadata": {},
   "source": [
    "### PCA on our scaled data\n",
    "- to determine by how much we can reduce the dimensionality of our data. We can use scree-plots and cumulative explained ratio plots to find the number of components to use in further analyses."
   ]
  },
  {
   "cell_type": "code",
   "execution_count": 14,
   "id": "adc6a7fd",
   "metadata": {},
   "outputs": [],
   "source": [
    "# Importing our plotting module, and PCA class\n",
    "import matplotlib.pyplot as plt\n",
    "from sklearn.decomposition import PCA\n",
    "%matplotlib inline"
   ]
  },
  {
   "cell_type": "code",
   "execution_count": 15,
   "id": "58beb3c1",
   "metadata": {},
   "outputs": [],
   "source": [
    "# Getting our explained variance ratios from PCA using all features\n",
    "pca = PCA()\n",
    "pca.fit(scaled_train_features)\n",
    "\n",
    "exp_variance = pca.explained_variance_ratio_"
   ]
  },
  {
   "cell_type": "code",
   "execution_count": 16,
   "id": "de69369e",
   "metadata": {},
   "outputs": [
    {
     "data": {
      "text/plain": [
       "Text(0.5, 0, 'Principal Component #')"
      ]
     },
     "execution_count": 16,
     "metadata": {},
     "output_type": "execute_result"
    },
    {
     "data": {
      "image/png": "[encoded data removed]",
      "text/plain": [
       "<Figure size 432x288 with 1 Axes>"
      ]
     },
     "metadata": {
      "needs_background": "light"
     },
     "output_type": "display_data"
    }
   ],
   "source": [
    "\n",
    "# plotting the explained variance using a barplot\n",
    "fig, ax = plt.subplots()\n",
    "ax.bar(range(8), exp_variance)\n",
    "ax.set_xlabel('Principal Component #')"
   ]
  },
  {
   "cell_type": "markdown",
   "id": "6574aa9e",
   "metadata": {},
   "source": [
    "###  Further visualization of PCA\n",
    "\n",
    "- As here does not appear to be a clear elbow in this scree plot, now looking at the cumulative explained variance plot to determine how many features are required to explain, say, about 85% of the variance"
   ]
  },
  {
   "cell_type": "code",
   "execution_count": 17,
   "id": "d8a64de6",
   "metadata": {},
   "outputs": [],
   "source": [
    "import numpy as np\n",
    "# Calculating the cumulative explained variance\n",
    "cum_exp_variance = np.cumsum(exp_variance)"
   ]
  },
  {
   "cell_type": "code",
   "execution_count": 18,
   "id": "660f5417",
   "metadata": {},
   "outputs": [
    {
     "data": {
      "text/plain": [
       "<matplotlib.lines.Line2D at 0x24580e46190>"
      ]
     },
     "execution_count": 18,
     "metadata": {},
     "output_type": "execute_result"
    },
    {
     "data": {
      "image/png": "[encoded data removed]",
      "text/plain": [
       "<Figure size 432x288 with 1 Axes>"
      ]
     },
     "metadata": {
      "needs_background": "light"
     },
     "output_type": "display_data"
    }
   ],
   "source": [
    "# Plotting the cumulative explained variance and drawing a dashed line at 0.85.\n",
    "fig, ax = plt.subplots()\n",
    "ax.bar(range(8),cum_exp_variance)\n",
    "ax.set_xlabel('cummulative_exp_variance')\n",
    "ax.axhline(y=0.85, linestyle='--')"
   ]
  },
  {
   "cell_type": "code",
   "execution_count": 19,
   "id": "dc63f29c",
   "metadata": {},
   "outputs": [],
   "source": [
    "##We saw from the plot that 6 features, can explain 85% of the variance!\n",
    "\n",
    "##Therefore, we can use 6 components to perform PCA and reduce the dimensionality of our train and test features."
   ]
  },
  {
   "cell_type": "code",
   "execution_count": 20,
   "id": "e6cac350",
   "metadata": {},
   "outputs": [],
   "source": [
    "# Performing PCA with the chosen number of components and projecting data onto components\n",
    "pca = PCA(n_components=6,random_state=10)"
   ]
  },
  {
   "cell_type": "code",
   "execution_count": 21,
   "id": "5880a9b0",
   "metadata": {},
   "outputs": [],
   "source": [
    "# Fitting and transforming the scaled training features using pca\n",
    "train_pca = pca.fit_transform(scaled_train_features)\n"
   ]
  },
  {
   "cell_type": "code",
   "execution_count": 22,
   "id": "18952a65",
   "metadata": {},
   "outputs": [],
   "source": [
    "# Fitting and transforming the scaled test features using pca\n",
    "test_pca = pca.fit_transform(scaled_test_features)"
   ]
  },
  {
   "cell_type": "markdown",
   "id": "1a75743f",
   "metadata": {},
   "source": [
    "### Model building \n",
    "- Here we will us two algorithms to test our model and compare between those two:\n",
    " - Decesion Tree\n",
    " - Logistic Regression\n",
    "  "
   ]
  },
  {
   "cell_type": "code",
   "execution_count": 23,
   "id": "850fb532",
   "metadata": {},
   "outputs": [
    {
     "data": {
      "text/plain": [
       "DecisionTreeClassifier(random_state=0)"
      ]
     },
     "execution_count": 23,
     "metadata": {},
     "output_type": "execute_result"
    }
   ],
   "source": [
    "## Decesion Tree\n",
    "from sklearn import tree\n",
    "\n",
    "# Training our decision tree\n",
    "clf = tree.DecisionTreeClassifier(random_state=0)\n",
    "clf.fit(train_pca,train_labels)\n"
   ]
  },
  {
   "cell_type": "code",
   "execution_count": 24,
   "id": "497c7b1f",
   "metadata": {},
   "outputs": [],
   "source": [
    "# Predicting the labels for the test data\n",
    "pred_labels_tree = clf.predict(test_pca)"
   ]
  },
  {
   "cell_type": "code",
   "execution_count": 25,
   "id": "e27c80f0",
   "metadata": {},
   "outputs": [],
   "source": [
    "## Logistics Regression\n",
    "# Importing LogisticRegression\n",
    "from sklearn.linear_model import LogisticRegression"
   ]
  },
  {
   "cell_type": "code",
   "execution_count": 26,
   "id": "451e9b28",
   "metadata": {},
   "outputs": [
    {
     "data": {
      "text/plain": [
       "LogisticRegression(random_state=10)"
      ]
     },
     "execution_count": 26,
     "metadata": {},
     "output_type": "execute_result"
    }
   ],
   "source": [
    "# Training our logistic regression  \n",
    "logreg = LogisticRegression(random_state=10)\n",
    "logreg.fit(train_pca,train_labels)\n"
   ]
  },
  {
   "cell_type": "code",
   "execution_count": 27,
   "id": "b5e5c818",
   "metadata": {},
   "outputs": [],
   "source": [
    "# predicting labels for the test set\n",
    "pred_labels_logit = logreg.predict(test_pca)"
   ]
  },
  {
   "cell_type": "markdown",
   "id": "a9f8bef5",
   "metadata": {},
   "source": [
    "### Comparing our decesion tree to logistisc regression\n"
   ]
  },
  {
   "cell_type": "code",
   "execution_count": 28,
   "id": "d6bcb341",
   "metadata": {},
   "outputs": [],
   "source": [
    "# Creating the classification report for both models\n",
    "from sklearn.metrics import classification_report\n",
    "class_rep_tree = classification_report(test_labels,pred_labels_tree)\n",
    "class_rep_log = classification_report(test_labels,pred_labels_logit)"
   ]
  },
  {
   "cell_type": "code",
   "execution_count": 29,
   "id": "c637e9d1",
   "metadata": {},
   "outputs": [
    {
     "name": "stdout",
     "output_type": "stream",
     "text": [
      "Decision Tree: \n",
      "               precision    recall  f1-score   support\n",
      "\n",
      "     Hip-Hop       0.48      0.52      0.50       233\n",
      "        Rock       0.88      0.87      0.87       968\n",
      "\n",
      "    accuracy                           0.80      1201\n",
      "   macro avg       0.68      0.69      0.69      1201\n",
      "weighted avg       0.80      0.80      0.80      1201\n",
      "\n"
     ]
    }
   ],
   "source": [
    "# Decision tree report\n",
    "print(\"Decision Tree: \\n\", class_rep_tree)\n"
   ]
  },
  {
   "cell_type": "code",
   "execution_count": 30,
   "id": "634aa8dd",
   "metadata": {},
   "outputs": [
    {
     "name": "stdout",
     "output_type": "stream",
     "text": [
      "Logistic Regression: \n",
      "               precision    recall  f1-score   support\n",
      "\n",
      "     Hip-Hop       0.75      0.48      0.58       233\n",
      "        Rock       0.88      0.96      0.92       968\n",
      "\n",
      "    accuracy                           0.87      1201\n",
      "   macro avg       0.82      0.72      0.75      1201\n",
      "weighted avg       0.86      0.87      0.86      1201\n",
      "\n"
     ]
    }
   ],
   "source": [
    "# Logistic Rregression report\n",
    "print(\"Logistic Regression: \\n\", class_rep_log)"
   ]
  },
  {
   "cell_type": "markdown",
   "id": "e81c40de",
   "metadata": {},
   "source": [
    "## Data balancing\n",
    "-  looking at our classification report, we can see that rock songs are fairly well classified, but hip-hop songs are disproportionately misclassified as rock songs.\n",
    "- looking at the number of data points we have for each class, we see that we have far more data points for the rock classification than for hip-hop, potentially skewing our model's ability to distinguish between classes"
   ]
  },
  {
   "cell_type": "code",
   "execution_count": 31,
   "id": "e826a244",
   "metadata": {},
   "outputs": [],
   "source": [
    "## handling the imbalanced data\n",
    "# getting only the hip-hop tracks, and then only the rock tracks\n",
    "hop_only = echo_tracks.loc[echo_tracks['genre_top']=='Hip-Hop']\n",
    "rock_only = echo_tracks.loc[echo_tracks['genre_top']=='Rock']"
   ]
  },
  {
   "cell_type": "code",
   "execution_count": 32,
   "id": "b3589afc",
   "metadata": {},
   "outputs": [],
   "source": [
    "# sampling the rocks songs to be the same number as there are hip-hop songs\n",
    "rock_only = rock_only.sample(hop_only.shape[0],random_state=10)"
   ]
  },
  {
   "cell_type": "code",
   "execution_count": 33,
   "id": "3ac64874",
   "metadata": {},
   "outputs": [
    {
     "name": "stdout",
     "output_type": "stream",
     "text": [
      "(910, 10)\n",
      "(910, 10)\n"
     ]
    }
   ],
   "source": [
    "print(hop_only.shape)\n",
    "print(rock_only.shape)"
   ]
  },
  {
   "cell_type": "code",
   "execution_count": 34,
   "id": "1df78222",
   "metadata": {},
   "outputs": [],
   "source": [
    "# concatenating the dataframes rock_only and hop_only\n",
    "rock_hop_bal = pd.concat([rock_only,hop_only])"
   ]
  },
  {
   "cell_type": "code",
   "execution_count": 35,
   "id": "a00e34d6",
   "metadata": {},
   "outputs": [
    {
     "data": {
      "text/html": [
       "<div>\n",
       "<style scoped>\n",
       "    .dataframe tbody tr th:only-of-type {\n",
       "        vertical-align: middle;\n",
       "    }\n",
       "\n",
       "    .dataframe tbody tr th {\n",
       "        vertical-align: top;\n",
       "    }\n",
       "\n",
       "    .dataframe thead th {\n",
       "        text-align: right;\n",
       "    }\n",
       "</style>\n",
       "<table border=\"1\" class=\"dataframe\">\n",
       "  <thead>\n",
       "    <tr style=\"text-align: right;\">\n",
       "      <th></th>\n",
       "      <th>track_id</th>\n",
       "      <th>acousticness</th>\n",
       "      <th>danceability</th>\n",
       "      <th>energy</th>\n",
       "      <th>instrumentalness</th>\n",
       "      <th>liveness</th>\n",
       "      <th>speechiness</th>\n",
       "      <th>tempo</th>\n",
       "      <th>valence</th>\n",
       "      <th>genre_top</th>\n",
       "    </tr>\n",
       "  </thead>\n",
       "  <tbody>\n",
       "    <tr>\n",
       "      <th>773</th>\n",
       "      <td>4038</td>\n",
       "      <td>0.825838</td>\n",
       "      <td>0.263645</td>\n",
       "      <td>0.797948</td>\n",
       "      <td>8.423181e-01</td>\n",
       "      <td>0.177089</td>\n",
       "      <td>0.045277</td>\n",
       "      <td>166.580</td>\n",
       "      <td>0.713586</td>\n",
       "      <td>Rock</td>\n",
       "    </tr>\n",
       "    <tr>\n",
       "      <th>2273</th>\n",
       "      <td>19501</td>\n",
       "      <td>0.966635</td>\n",
       "      <td>0.386114</td>\n",
       "      <td>0.651980</td>\n",
       "      <td>8.694723e-01</td>\n",
       "      <td>0.353138</td>\n",
       "      <td>0.032208</td>\n",
       "      <td>130.767</td>\n",
       "      <td>0.712374</td>\n",
       "      <td>Rock</td>\n",
       "    </tr>\n",
       "    <tr>\n",
       "      <th>2846</th>\n",
       "      <td>31252</td>\n",
       "      <td>0.721510</td>\n",
       "      <td>0.358035</td>\n",
       "      <td>0.948187</td>\n",
       "      <td>8.011837e-01</td>\n",
       "      <td>0.105706</td>\n",
       "      <td>0.095522</td>\n",
       "      <td>125.884</td>\n",
       "      <td>0.208728</td>\n",
       "      <td>Rock</td>\n",
       "    </tr>\n",
       "    <tr>\n",
       "      <th>2147</th>\n",
       "      <td>17947</td>\n",
       "      <td>0.617370</td>\n",
       "      <td>0.487321</td>\n",
       "      <td>0.918848</td>\n",
       "      <td>8.170503e-01</td>\n",
       "      <td>0.089908</td>\n",
       "      <td>0.040337</td>\n",
       "      <td>129.565</td>\n",
       "      <td>0.268893</td>\n",
       "      <td>Rock</td>\n",
       "    </tr>\n",
       "    <tr>\n",
       "      <th>2654</th>\n",
       "      <td>27421</td>\n",
       "      <td>0.025464</td>\n",
       "      <td>0.245523</td>\n",
       "      <td>0.422381</td>\n",
       "      <td>9.380106e-01</td>\n",
       "      <td>0.441009</td>\n",
       "      <td>0.038795</td>\n",
       "      <td>149.960</td>\n",
       "      <td>0.439876</td>\n",
       "      <td>Rock</td>\n",
       "    </tr>\n",
       "    <tr>\n",
       "      <th>...</th>\n",
       "      <td>...</td>\n",
       "      <td>...</td>\n",
       "      <td>...</td>\n",
       "      <td>...</td>\n",
       "      <td>...</td>\n",
       "      <td>...</td>\n",
       "      <td>...</td>\n",
       "      <td>...</td>\n",
       "      <td>...</td>\n",
       "      <td>...</td>\n",
       "    </tr>\n",
       "    <tr>\n",
       "      <th>4797</th>\n",
       "      <td>124718</td>\n",
       "      <td>0.412194</td>\n",
       "      <td>0.686825</td>\n",
       "      <td>0.849309</td>\n",
       "      <td>6.000000e-10</td>\n",
       "      <td>0.867543</td>\n",
       "      <td>0.367315</td>\n",
       "      <td>96.104</td>\n",
       "      <td>0.692414</td>\n",
       "      <td>Hip-Hop</td>\n",
       "    </tr>\n",
       "    <tr>\n",
       "      <th>4798</th>\n",
       "      <td>124719</td>\n",
       "      <td>0.054973</td>\n",
       "      <td>0.617535</td>\n",
       "      <td>0.728567</td>\n",
       "      <td>7.215700e-06</td>\n",
       "      <td>0.131438</td>\n",
       "      <td>0.243130</td>\n",
       "      <td>96.262</td>\n",
       "      <td>0.399720</td>\n",
       "      <td>Hip-Hop</td>\n",
       "    </tr>\n",
       "    <tr>\n",
       "      <th>4799</th>\n",
       "      <td>124720</td>\n",
       "      <td>0.010478</td>\n",
       "      <td>0.652483</td>\n",
       "      <td>0.657498</td>\n",
       "      <td>7.098000e-07</td>\n",
       "      <td>0.701523</td>\n",
       "      <td>0.229174</td>\n",
       "      <td>94.885</td>\n",
       "      <td>0.432240</td>\n",
       "      <td>Hip-Hop</td>\n",
       "    </tr>\n",
       "    <tr>\n",
       "      <th>4800</th>\n",
       "      <td>124721</td>\n",
       "      <td>0.067906</td>\n",
       "      <td>0.432421</td>\n",
       "      <td>0.764508</td>\n",
       "      <td>1.625500e-06</td>\n",
       "      <td>0.104412</td>\n",
       "      <td>0.310553</td>\n",
       "      <td>171.329</td>\n",
       "      <td>0.580087</td>\n",
       "      <td>Hip-Hop</td>\n",
       "    </tr>\n",
       "    <tr>\n",
       "      <th>4801</th>\n",
       "      <td>124722</td>\n",
       "      <td>0.153518</td>\n",
       "      <td>0.638660</td>\n",
       "      <td>0.762567</td>\n",
       "      <td>5.000000e-10</td>\n",
       "      <td>0.264847</td>\n",
       "      <td>0.303372</td>\n",
       "      <td>77.842</td>\n",
       "      <td>0.656612</td>\n",
       "      <td>Hip-Hop</td>\n",
       "    </tr>\n",
       "  </tbody>\n",
       "</table>\n",
       "<p>1820 rows × 10 columns</p>\n",
       "</div>"
      ],
      "text/plain": [
       "      track_id  acousticness  danceability    energy  instrumentalness  \\\n",
       "773       4038      0.825838      0.263645  0.797948      8.423181e-01   \n",
       "2273     19501      0.966635      0.386114  0.651980      8.694723e-01   \n",
       "2846     31252      0.721510      0.358035  0.948187      8.011837e-01   \n",
       "2147     17947      0.617370      0.487321  0.918848      8.170503e-01   \n",
       "2654     27421      0.025464      0.245523  0.422381      9.380106e-01   \n",
       "...        ...           ...           ...       ...               ...   \n",
       "4797    124718      0.412194      0.686825  0.849309      6.000000e-10   \n",
       "4798    124719      0.054973      0.617535  0.728567      7.215700e-06   \n",
       "4799    124720      0.010478      0.652483  0.657498      7.098000e-07   \n",
       "4800    124721      0.067906      0.432421  0.764508      1.625500e-06   \n",
       "4801    124722      0.153518      0.638660  0.762567      5.000000e-10   \n",
       "\n",
       "      liveness  speechiness    tempo   valence genre_top  \n",
       "773   0.177089     0.045277  166.580  0.713586      Rock  \n",
       "2273  0.353138     0.032208  130.767  0.712374      Rock  \n",
       "2846  0.105706     0.095522  125.884  0.208728      Rock  \n",
       "2147  0.089908     0.040337  129.565  0.268893      Rock  \n",
       "2654  0.441009     0.038795  149.960  0.439876      Rock  \n",
       "...        ...          ...      ...       ...       ...  \n",
       "4797  0.867543     0.367315   96.104  0.692414   Hip-Hop  \n",
       "4798  0.131438     0.243130   96.262  0.399720   Hip-Hop  \n",
       "4799  0.701523     0.229174   94.885  0.432240   Hip-Hop  \n",
       "4800  0.104412     0.310553  171.329  0.580087   Hip-Hop  \n",
       "4801  0.264847     0.303372   77.842  0.656612   Hip-Hop  \n",
       "\n",
       "[1820 rows x 10 columns]"
      ]
     },
     "execution_count": 35,
     "metadata": {},
     "output_type": "execute_result"
    }
   ],
   "source": [
    "rock_hop_bal"
   ]
  },
  {
   "cell_type": "code",
   "execution_count": 36,
   "id": "c2ad1da4",
   "metadata": {},
   "outputs": [],
   "source": [
    "#again the features, labels, and pca projection are created for the balanced dataframe\n",
    "features = rock_hop_bal.drop(['genre_top', 'track_id'], axis=1) \n",
    "labels = rock_hop_bal['genre_top']"
   ]
  },
  {
   "cell_type": "code",
   "execution_count": 37,
   "id": "5c72d946",
   "metadata": {},
   "outputs": [],
   "source": [
    "# splitting of training set and test set data\n",
    "train_features, test_features, train_labels, test_labels = train_test_split(features,labels, random_state=10)"
   ]
  },
  {
   "cell_type": "code",
   "execution_count": 38,
   "id": "26a3ac96",
   "metadata": {},
   "outputs": [],
   "source": [
    "# Redefining the train and test set with the pca_projection from the balanced data\n",
    "train_pca = pca.fit_transform(scaler.fit_transform(train_features))\n",
    "test_pca = pca.transform(scaler.transform(test_features))"
   ]
  },
  {
   "cell_type": "markdown",
   "id": "fb4efae3",
   "metadata": {},
   "source": [
    "### Checking if balancing the data helped?"
   ]
  },
  {
   "cell_type": "code",
   "execution_count": 39,
   "id": "901db603",
   "metadata": {},
   "outputs": [],
   "source": [
    "# Training our decision tree on the balanced data\n",
    "clf = tree.DecisionTreeClassifier(random_state=10)\n",
    "clf.fit(train_features,train_labels)\n",
    "pred_labels_tree = clf.predict(test_features)"
   ]
  },
  {
   "cell_type": "code",
   "execution_count": 40,
   "id": "43aef221",
   "metadata": {},
   "outputs": [
    {
     "name": "stderr",
     "output_type": "stream",
     "text": [
      "C:\\Users\\user\\anaconda3\\lib\\site-packages\\sklearn\\linear_model\\_logistic.py:763: ConvergenceWarning: lbfgs failed to converge (status=1):\n",
      "STOP: TOTAL NO. of ITERATIONS REACHED LIMIT.\n",
      "\n",
      "Increase the number of iterations (max_iter) or scale the data as shown in:\n",
      "    https://scikit-learn.org/stable/modules/preprocessing.html\n",
      "Please also refer to the documentation for alternative solver options:\n",
      "    https://scikit-learn.org/stable/modules/linear_model.html#logistic-regression\n",
      "  n_iter_i = _check_optimize_result(\n"
     ]
    }
   ],
   "source": [
    "# Training our logistic regression on the balanced data\n",
    "logreg = LogisticRegression(random_state=10)\n",
    "logreg.fit(train_features,train_labels)\n",
    "pred_labels_logit = logreg.predict(test_features)"
   ]
  },
  {
   "cell_type": "code",
   "execution_count": 41,
   "id": "4cf33c4b",
   "metadata": {},
   "outputs": [
    {
     "name": "stdout",
     "output_type": "stream",
     "text": [
      "Decision Tree: \n",
      "               precision    recall  f1-score   support\n",
      "\n",
      "     Hip-Hop       0.81      0.85      0.83       230\n",
      "        Rock       0.84      0.79      0.81       225\n",
      "\n",
      "    accuracy                           0.82       455\n",
      "   macro avg       0.82      0.82      0.82       455\n",
      "weighted avg       0.82      0.82      0.82       455\n",
      "\n"
     ]
    }
   ],
   "source": [
    "# Comparing the models\n",
    "print(\"Decision Tree: \\n\", classification_report(test_labels,pred_labels_tree))\n"
   ]
  },
  {
   "cell_type": "code",
   "execution_count": 42,
   "id": "af374162",
   "metadata": {},
   "outputs": [
    {
     "name": "stdout",
     "output_type": "stream",
     "text": [
      "Logistic Regression: \n",
      "               precision    recall  f1-score   support\n",
      "\n",
      "     Hip-Hop       0.84      0.82      0.83       230\n",
      "        Rock       0.82      0.84      0.83       225\n",
      "\n",
      "    accuracy                           0.83       455\n",
      "   macro avg       0.83      0.83      0.83       455\n",
      "weighted avg       0.83      0.83      0.83       455\n",
      "\n"
     ]
    }
   ],
   "source": [
    "print(\"Logistic Regression: \\n\", classification_report(test_labels,pred_labels_logit))"
   ]
  },
  {
   "cell_type": "code",
   "execution_count": 43,
   "id": "72403327",
   "metadata": {},
   "outputs": [],
   "source": [
    "## as we can see balancing the data has really helped us in removing the biasing nature of our model"
   ]
  },
  {
   "cell_type": "markdown",
   "id": "fb94969c",
   "metadata": {},
   "source": [
    "### Now using cross-validation to evaluate our models"
   ]
  },
  {
   "cell_type": "code",
   "execution_count": 44,
   "id": "a59b798f",
   "metadata": {},
   "outputs": [],
   "source": [
    "from sklearn.model_selection import KFold, cross_val_score\n",
    "from sklearn.pipeline import Pipeline\n"
   ]
  },
  {
   "cell_type": "code",
   "execution_count": 45,
   "id": "903a8b85",
   "metadata": {},
   "outputs": [],
   "source": [
    "tree_pipe = Pipeline([(\"scaler\", StandardScaler()), (\"pca\", PCA(n_components=6)), \n",
    "                      (\"tree\", tree.DecisionTreeClassifier(random_state=10))])\n",
    "logreg_pipe = Pipeline([(\"scaler\", StandardScaler()), (\"pca\", PCA(n_components=6)), \n",
    "                        (\"logreg\", LogisticRegression(random_state=10))])"
   ]
  },
  {
   "cell_type": "code",
   "execution_count": 46,
   "id": "7939911a",
   "metadata": {},
   "outputs": [],
   "source": [
    "# Setting up our K-fold cross-validation\n",
    "kf = KFold(10)\n",
    "\n",
    "# Training our models using KFold cv\n",
    "tree_score = cross_val_score(tree_pipe, features, labels, cv=kf)\n",
    "logit_score = cross_val_score(logreg_pipe, features, labels, cv=kf)"
   ]
  },
  {
   "cell_type": "code",
   "execution_count": 47,
   "id": "1a060782",
   "metadata": {},
   "outputs": [
    {
     "name": "stdout",
     "output_type": "stream",
     "text": [
      "Decision Tree: 0.7582417582417582 Logistic Regression: 0.782967032967033\n"
     ]
    }
   ],
   "source": [
    "# Printing the mean of each array of scores\n",
    "print(\"Decision Tree:\", np.mean(tree_score), \"Logistic Regression:\", np.mean(logit_score))"
   ]
  },
  {
   "cell_type": "code",
   "execution_count": null,
   "id": "22c3ef99",
   "metadata": {},
   "outputs": [],
   "source": []
  },
  {
   "cell_type": "code",
   "execution_count": null,
   "id": "c20d9f36",
   "metadata": {},
   "outputs": [],
   "source": []
  }
 ],
 "metadata": {
  "kernelspec": {
   "display_name": "Python 3 (ipykernel)",
   "language": "python",
   "name": "python3"
  },
  "language_info": {
   "codemirror_mode": {
    "name": "ipython",
    "version": 3
   },
   "file_extension": ".py",
   "mimetype": "text/x-python",
   "name": "python",
   "nbconvert_exporter": "python",
   "pygments_lexer": "ipython3",
   "version": "3.9.7"
  }
 },
 "nbformat": 4,
 "nbformat_minor": 5
}
